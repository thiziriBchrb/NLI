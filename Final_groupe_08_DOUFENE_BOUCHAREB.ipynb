{
  "cells": [
    {
      "cell_type": "code",
      "source": [
        "import pandas as pd\n",
        "import numpy as np\n",
        "import nltk\n",
        "import torch\n",
        "\n",
        "# preprocessing\n",
        "from sklearn.feature_extraction.text import TfidfVectorizer\n",
        "import nltk\n",
        "from nltk.tokenize import word_tokenize\n",
        "from nltk.corpus import stopwords\n",
        "from collections import Counter\n",
        "\n",
        "# models\n",
        "from sklearn.svm import SVC\n",
        "from sklearn.linear_model import LogisticRegression\n",
        "from sklearn.naive_bayes import MultinomialNB\n",
        "from sklearn.ensemble import VotingClassifier, RandomForestClassifier\n",
        "from sklearn.ensemble import BaggingClassifier\n",
        "from transformers import BertTokenizer, BertModel\n",
        "\n",
        "\n",
        "# metrics and test\n",
        "from sklearn.pipeline import Pipeline\n",
        "from sklearn.model_selection import GridSearchCV, train_test_split\n",
        "from sklearn.metrics import accuracy_score, confusion_matrix, classification_report\n",
        "\n",
        "\n",
        "# others\n",
        "import seaborn as sns\n",
        "import matplotlib.pyplot as plt\n",
        "import plotly.express as px\n",
        "import pickle\n",
        "\n"
      ],
      "metadata": {
        "id": "FU-bH3ahAjx4"
      },
      "execution_count": 14,
      "outputs": []
    },
    {
      "cell_type": "code",
      "execution_count": 15,
      "metadata": {
        "colab": {
          "base_uri": "https://localhost:8080/",
          "height": 206
        },
        "id": "TX_50lHVVe-Y",
        "outputId": "18f46f42-2218-4fcb-c5d4-fa9ee37963fc"
      },
      "outputs": [
        {
          "output_type": "execute_result",
          "data": {
            "text/plain": [
              "                                            sentence language\n",
              "0   IThe importance and popularity of travelling ...      GER\n",
              "1   It is an important decision , how to plan you...      TUR\n",
              "2   Some people believe that young people can enj...      CHI\n",
              "3   Travelling is usually considered as good recr...      TEL\n",
              "4   i agree that . Life is a person live period o...      ARA"
            ],
            "text/html": [
              "\n",
              "  <div id=\"df-8d54e496-8c9c-4e50-b700-c805de3aa392\" class=\"colab-df-container\">\n",
              "    <div>\n",
              "<style scoped>\n",
              "    .dataframe tbody tr th:only-of-type {\n",
              "        vertical-align: middle;\n",
              "    }\n",
              "\n",
              "    .dataframe tbody tr th {\n",
              "        vertical-align: top;\n",
              "    }\n",
              "\n",
              "    .dataframe thead th {\n",
              "        text-align: right;\n",
              "    }\n",
              "</style>\n",
              "<table border=\"1\" class=\"dataframe\">\n",
              "  <thead>\n",
              "    <tr style=\"text-align: right;\">\n",
              "      <th></th>\n",
              "      <th>sentence</th>\n",
              "      <th>language</th>\n",
              "    </tr>\n",
              "  </thead>\n",
              "  <tbody>\n",
              "    <tr>\n",
              "      <th>0</th>\n",
              "      <td>IThe importance and popularity of travelling ...</td>\n",
              "      <td>GER</td>\n",
              "    </tr>\n",
              "    <tr>\n",
              "      <th>1</th>\n",
              "      <td>It is an important decision , how to plan you...</td>\n",
              "      <td>TUR</td>\n",
              "    </tr>\n",
              "    <tr>\n",
              "      <th>2</th>\n",
              "      <td>Some people believe that young people can enj...</td>\n",
              "      <td>CHI</td>\n",
              "    </tr>\n",
              "    <tr>\n",
              "      <th>3</th>\n",
              "      <td>Travelling is usually considered as good recr...</td>\n",
              "      <td>TEL</td>\n",
              "    </tr>\n",
              "    <tr>\n",
              "      <th>4</th>\n",
              "      <td>i agree that . Life is a person live period o...</td>\n",
              "      <td>ARA</td>\n",
              "    </tr>\n",
              "  </tbody>\n",
              "</table>\n",
              "</div>\n",
              "    <div class=\"colab-df-buttons\">\n",
              "\n",
              "  <div class=\"colab-df-container\">\n",
              "    <button class=\"colab-df-convert\" onclick=\"convertToInteractive('df-8d54e496-8c9c-4e50-b700-c805de3aa392')\"\n",
              "            title=\"Convert this dataframe to an interactive table.\"\n",
              "            style=\"display:none;\">\n",
              "\n",
              "  <svg xmlns=\"http://www.w3.org/2000/svg\" height=\"24px\" viewBox=\"0 -960 960 960\">\n",
              "    <path d=\"M120-120v-720h720v720H120Zm60-500h600v-160H180v160Zm220 220h160v-160H400v160Zm0 220h160v-160H400v160ZM180-400h160v-160H180v160Zm440 0h160v-160H620v160ZM180-180h160v-160H180v160Zm440 0h160v-160H620v160Z\"/>\n",
              "  </svg>\n",
              "    </button>\n",
              "\n",
              "  <style>\n",
              "    .colab-df-container {\n",
              "      display:flex;\n",
              "      gap: 12px;\n",
              "    }\n",
              "\n",
              "    .colab-df-convert {\n",
              "      background-color: #E8F0FE;\n",
              "      border: none;\n",
              "      border-radius: 50%;\n",
              "      cursor: pointer;\n",
              "      display: none;\n",
              "      fill: #1967D2;\n",
              "      height: 32px;\n",
              "      padding: 0 0 0 0;\n",
              "      width: 32px;\n",
              "    }\n",
              "\n",
              "    .colab-df-convert:hover {\n",
              "      background-color: #E2EBFA;\n",
              "      box-shadow: 0px 1px 2px rgba(60, 64, 67, 0.3), 0px 1px 3px 1px rgba(60, 64, 67, 0.15);\n",
              "      fill: #174EA6;\n",
              "    }\n",
              "\n",
              "    .colab-df-buttons div {\n",
              "      margin-bottom: 4px;\n",
              "    }\n",
              "\n",
              "    [theme=dark] .colab-df-convert {\n",
              "      background-color: #3B4455;\n",
              "      fill: #D2E3FC;\n",
              "    }\n",
              "\n",
              "    [theme=dark] .colab-df-convert:hover {\n",
              "      background-color: #434B5C;\n",
              "      box-shadow: 0px 1px 3px 1px rgba(0, 0, 0, 0.15);\n",
              "      filter: drop-shadow(0px 1px 2px rgba(0, 0, 0, 0.3));\n",
              "      fill: #FFFFFF;\n",
              "    }\n",
              "  </style>\n",
              "\n",
              "    <script>\n",
              "      const buttonEl =\n",
              "        document.querySelector('#df-8d54e496-8c9c-4e50-b700-c805de3aa392 button.colab-df-convert');\n",
              "      buttonEl.style.display =\n",
              "        google.colab.kernel.accessAllowed ? 'block' : 'none';\n",
              "\n",
              "      async function convertToInteractive(key) {\n",
              "        const element = document.querySelector('#df-8d54e496-8c9c-4e50-b700-c805de3aa392');\n",
              "        const dataTable =\n",
              "          await google.colab.kernel.invokeFunction('convertToInteractive',\n",
              "                                                    [key], {});\n",
              "        if (!dataTable) return;\n",
              "\n",
              "        const docLinkHtml = 'Like what you see? Visit the ' +\n",
              "          '<a target=\"_blank\" href=https://colab.research.google.com/notebooks/data_table.ipynb>data table notebook</a>'\n",
              "          + ' to learn more about interactive tables.';\n",
              "        element.innerHTML = '';\n",
              "        dataTable['output_type'] = 'display_data';\n",
              "        await google.colab.output.renderOutput(dataTable, element);\n",
              "        const docLink = document.createElement('div');\n",
              "        docLink.innerHTML = docLinkHtml;\n",
              "        element.appendChild(docLink);\n",
              "      }\n",
              "    </script>\n",
              "  </div>\n",
              "\n",
              "\n",
              "<div id=\"df-21b55c97-da41-4eec-b4e6-be8ad87596e5\">\n",
              "  <button class=\"colab-df-quickchart\" onclick=\"quickchart('df-21b55c97-da41-4eec-b4e6-be8ad87596e5')\"\n",
              "            title=\"Suggest charts\"\n",
              "            style=\"display:none;\">\n",
              "\n",
              "<svg xmlns=\"http://www.w3.org/2000/svg\" height=\"24px\"viewBox=\"0 0 24 24\"\n",
              "     width=\"24px\">\n",
              "    <g>\n",
              "        <path d=\"M19 3H5c-1.1 0-2 .9-2 2v14c0 1.1.9 2 2 2h14c1.1 0 2-.9 2-2V5c0-1.1-.9-2-2-2zM9 17H7v-7h2v7zm4 0h-2V7h2v10zm4 0h-2v-4h2v4z\"/>\n",
              "    </g>\n",
              "</svg>\n",
              "  </button>\n",
              "\n",
              "<style>\n",
              "  .colab-df-quickchart {\n",
              "      --bg-color: #E8F0FE;\n",
              "      --fill-color: #1967D2;\n",
              "      --hover-bg-color: #E2EBFA;\n",
              "      --hover-fill-color: #174EA6;\n",
              "      --disabled-fill-color: #AAA;\n",
              "      --disabled-bg-color: #DDD;\n",
              "  }\n",
              "\n",
              "  [theme=dark] .colab-df-quickchart {\n",
              "      --bg-color: #3B4455;\n",
              "      --fill-color: #D2E3FC;\n",
              "      --hover-bg-color: #434B5C;\n",
              "      --hover-fill-color: #FFFFFF;\n",
              "      --disabled-bg-color: #3B4455;\n",
              "      --disabled-fill-color: #666;\n",
              "  }\n",
              "\n",
              "  .colab-df-quickchart {\n",
              "    background-color: var(--bg-color);\n",
              "    border: none;\n",
              "    border-radius: 50%;\n",
              "    cursor: pointer;\n",
              "    display: none;\n",
              "    fill: var(--fill-color);\n",
              "    height: 32px;\n",
              "    padding: 0;\n",
              "    width: 32px;\n",
              "  }\n",
              "\n",
              "  .colab-df-quickchart:hover {\n",
              "    background-color: var(--hover-bg-color);\n",
              "    box-shadow: 0 1px 2px rgba(60, 64, 67, 0.3), 0 1px 3px 1px rgba(60, 64, 67, 0.15);\n",
              "    fill: var(--button-hover-fill-color);\n",
              "  }\n",
              "\n",
              "  .colab-df-quickchart-complete:disabled,\n",
              "  .colab-df-quickchart-complete:disabled:hover {\n",
              "    background-color: var(--disabled-bg-color);\n",
              "    fill: var(--disabled-fill-color);\n",
              "    box-shadow: none;\n",
              "  }\n",
              "\n",
              "  .colab-df-spinner {\n",
              "    border: 2px solid var(--fill-color);\n",
              "    border-color: transparent;\n",
              "    border-bottom-color: var(--fill-color);\n",
              "    animation:\n",
              "      spin 1s steps(1) infinite;\n",
              "  }\n",
              "\n",
              "  @keyframes spin {\n",
              "    0% {\n",
              "      border-color: transparent;\n",
              "      border-bottom-color: var(--fill-color);\n",
              "      border-left-color: var(--fill-color);\n",
              "    }\n",
              "    20% {\n",
              "      border-color: transparent;\n",
              "      border-left-color: var(--fill-color);\n",
              "      border-top-color: var(--fill-color);\n",
              "    }\n",
              "    30% {\n",
              "      border-color: transparent;\n",
              "      border-left-color: var(--fill-color);\n",
              "      border-top-color: var(--fill-color);\n",
              "      border-right-color: var(--fill-color);\n",
              "    }\n",
              "    40% {\n",
              "      border-color: transparent;\n",
              "      border-right-color: var(--fill-color);\n",
              "      border-top-color: var(--fill-color);\n",
              "    }\n",
              "    60% {\n",
              "      border-color: transparent;\n",
              "      border-right-color: var(--fill-color);\n",
              "    }\n",
              "    80% {\n",
              "      border-color: transparent;\n",
              "      border-right-color: var(--fill-color);\n",
              "      border-bottom-color: var(--fill-color);\n",
              "    }\n",
              "    90% {\n",
              "      border-color: transparent;\n",
              "      border-bottom-color: var(--fill-color);\n",
              "    }\n",
              "  }\n",
              "</style>\n",
              "\n",
              "  <script>\n",
              "    async function quickchart(key) {\n",
              "      const quickchartButtonEl =\n",
              "        document.querySelector('#' + key + ' button');\n",
              "      quickchartButtonEl.disabled = true;  // To prevent multiple clicks.\n",
              "      quickchartButtonEl.classList.add('colab-df-spinner');\n",
              "      try {\n",
              "        const charts = await google.colab.kernel.invokeFunction(\n",
              "            'suggestCharts', [key], {});\n",
              "      } catch (error) {\n",
              "        console.error('Error during call to suggestCharts:', error);\n",
              "      }\n",
              "      quickchartButtonEl.classList.remove('colab-df-spinner');\n",
              "      quickchartButtonEl.classList.add('colab-df-quickchart-complete');\n",
              "    }\n",
              "    (() => {\n",
              "      let quickchartButtonEl =\n",
              "        document.querySelector('#df-21b55c97-da41-4eec-b4e6-be8ad87596e5 button');\n",
              "      quickchartButtonEl.style.display =\n",
              "        google.colab.kernel.accessAllowed ? 'block' : 'none';\n",
              "    })();\n",
              "  </script>\n",
              "</div>\n",
              "\n",
              "    </div>\n",
              "  </div>\n"
            ],
            "application/vnd.google.colaboratory.intrinsic+json": {
              "type": "dataframe",
              "variable_name": "df",
              "summary": "{\n  \"name\": \"df\",\n  \"rows\": 9900,\n  \"fields\": [\n    {\n      \"column\": \"sentence\",\n      \"properties\": {\n        \"dtype\": \"string\",\n        \"num_unique_values\": 9900,\n        \"samples\": [\n          \" Transportation is a very crucial dimension of globalization of which we are experiencing in its highest speed . The first cars started to be used in the beginning of the 20th century and have been used for decades as the most available machine for those who are eager to use it . According to my futuristic view about cars in the following twenty years , there will not be fewer cars in use than there are today , but more . I can certainly argue that the globalization process in the `` Third World countries '' will be a very important factor which will lead to the increse in the number of cars . Secondly , because of the lack of the culture of the usage of alternative mechanisms in transportation , the increase will continue . Thirdly , the non-existence of alternative machines produces which are cheap and effective as cars will be another reason for the increase . Finally , even though all of these three handicaps disappear , the government policies and the interests of car-producing corporations will hinder the achievements in reducing the number of cars in use . Firstly , globalization is a process which cannot be stopped in the near future . There are significant numbers of countries which entered the globalization age in the near past , there fore they do not have the number of cars as many as the number of the cars in the West . therefore , the countries like China , India , the countries of Africa or other countries which are not ndustrialized or are not in the free market system newly possesing that culture of usage if cars , which simply measn that there will be more cars in use in the near future . Secondly , in many of the countries , governments suffer from the lack of the culture of using alternative sources of transportation . modernized countries promote the usage of mass transportation and therefore , people living there are used to be directed to these alternatives . but in the countries like Turkey , people do not have the consciousness of mass transportation , instead every individual tend to buy a car for themselves , which is obviously a factor increasing the number of cars . Thirdly , many of car users do not want to give up using their cars since it is very useful and it provides opprtunities to them of which others do not have . People living in Istanbul would not give up their cars since there is a huge mass of cars on the roads which creates a problem for mass transportation users . when there is a jam on the road , the best possible way to rescue yourself from that will not be using mass transportation and get stuck on the roads with those heavy and slow machine , but instead you will want to use your car . Finally , governments in less industrialized countries do not have policies to cope with traffic problem and they do not promote policies to reduce the number of cars in use . On the other hand , the companies or corporations who produce these cars will not be willing to stop their production since that will destroy their interests . these corporations are always in contact with the governments in which they are established and will try to do everything beneficial to their interests . In conclusion , I believe that there will be more cars in use than today . the conditions of globalization and the certaio\",\n          \" I think that today is most important to specialize in one specific subject than to have broad knowledge of many academic subject . Today for a person is most important to find a job , and to find a job you must have the knowledge that for example a factory requires . If i can do a bit of all but i don-t know the exact thing that i was contacted to do i will never find a job . For me today factories search people with a specialize knowledge in one specific subject because is difficult today to find persons that have an adeguate preparation in only one thing . To be a specialize person you must spend lot of your time studying and travelling around your country ( or across europe ) to increase your ability . but today for me persons that have the like to do this are became lesser . I can see a lot of my friends that have just finished to study , they don-t like to travel to another city to become better in their work , they are huppy to stay near their home . Fortunately they have found a job near their home but other persons unfortunately didn-t find it also in other countries . So to get a job that tey like they have must attend specialized courses and they have must travel a lot to increase their knowledge . So if you want a job and particulary a job as you like and near your family , for me is necessary a specialize knowledge of something , something that you know is required in the part you have studied for .\",\n          \" If we take a look around the world , we will realize that the most successful people have always been at the edge of tecnology and have accomplish their goals by taking risks and trying out new things . It is necessary just to read any successful man 's biography to understand what this means . We all need to learn how to do things the best way we can and I think sometimes it can be quite scary to go into an unknown field , because there is a big chance we might fail . But failure is always a possibility and is present through our whole life and we have to learn to deal with it , because if we all stick to what we do and do n't try out new things , then the world would stop growing and developing and we would be inmerse in a place where there is no innovation . For instance , in bussiness , the best way to be successful is to come out with some product that nobody else has , that makes you unique . But most of the time , there is a big chance people wo n't like it . That 's why even if you do marketing studies , there 's always a risk factor that involves making decissions based on what you believe in without knowing the results . And in spite of how difficult it looks , it is necessary to keep going and make it happen , just to see how it turns out to be . In conclusion , the key to success is to innovate and take risks , this is the only way we will be able to build a better world , not only getting money , but also helping society , because in my opinion , success is not only defined by how rich you are , but by how much you have done for the world we live in .\"\n        ],\n        \"semantic_type\": \"\",\n        \"description\": \"\"\n      }\n    },\n    {\n      \"column\": \"language\",\n      \"properties\": {\n        \"dtype\": \"category\",\n        \"num_unique_values\": 11,\n        \"samples\": [\n          \"SPA\",\n          \"GER\",\n          \"FRE\"\n        ],\n        \"semantic_type\": \"\",\n        \"description\": \"\"\n      }\n    }\n  ]\n}"
            }
          },
          "metadata": {},
          "execution_count": 15
        }
      ],
      "source": [
        "from sklearn.svm import LinearSVC\n",
        "from sklearn.feature_extraction.text import TfidfVectorizer\n",
        "from sklearn.model_selection import GridSearchCV\n",
        "import pandas as pd\n",
        "\n",
        "df=pd.read_csv('/content/drive/MyDrive/Colab Notebooks/ExtractionProject/train.txt',delimiter='\\t',header=None)\n",
        "df['language'] = df[0].str.extract(r'\\((.*?)\\)')\n",
        "# df[0] = df[0].str.replace(r'\\((.*?)\\)', '')\n",
        "\n",
        "df=df.rename( columns={0:'sentence'})\n",
        "df['sentence'] = df['sentence'].str.slice(5)\n",
        "df.head()"
      ]
    },
    {
      "cell_type": "markdown",
      "source": [
        "# EDA"
      ],
      "metadata": {
        "id": "pE6wApDoRh4Q"
      }
    },
    {
      "cell_type": "markdown",
      "source": [
        "## Calcul de certaines metrique interessantes"
      ],
      "metadata": {
        "id": "2NXgfjnhSzlo"
      }
    },
    {
      "cell_type": "code",
      "source": [
        "nltk.download('punkt')\n",
        "nltk.download('stopwords')\n",
        "\n",
        "def average_sentence_length(sentences):\n",
        "    #sentences = nltk.sent_tokenize(text)\n",
        "    total_words = sum(len(word_tokenize(sent)) for sent in sentences)\n",
        "    return total_words / len(sentences)"
      ],
      "metadata": {
        "id": "9hXpKaq9RkqD"
      },
      "execution_count": null,
      "outputs": []
    },
    {
      "cell_type": "code",
      "source": [
        "df['sentence'] = df['sentence'].apply(lambda x : re.sub(r'\\s+', ' ', x))\n",
        "df['sentence_lowercase'] = df['sentence'].apply(lambda x : x.lower())\n",
        "df['sentence_without_ponctuation'] = df['sentence'].str.replace('[{}]'.format(string.punctuation), '')\n",
        "\n",
        "df['sentence_Tokenized'] = df['sentence'].apply(lambda x :  nltk.sent_tokenize(x))\n",
        "df['words_Tokenized'] = df['sentence_without_ponctuation'].apply(lambda x :  nltk.word_tokenize(x))\n",
        "\n",
        "df['sentence_count'] = df['sentence_Tokenized'].apply(lambda x: len(x))\n",
        "df['word_count'] = df['words_Tokenized'].apply(lambda x : len(x))\n",
        "df['avg_sentence_length'] = df['sentence_Tokenized'].apply(average_sentence_length)\n",
        "df.head()"
      ],
      "metadata": {
        "id": "572-JsDaRknO"
      },
      "execution_count": null,
      "outputs": []
    },
    {
      "cell_type": "markdown",
      "source": [
        "## Les mots les plus utilisés par langue"
      ],
      "metadata": {
        "id": "qnbJT1AOS6qh"
      }
    },
    {
      "cell_type": "code",
      "source": [
        "stop_words = set(stopwords.words('english'))\n",
        "\n",
        "def extract_top_words(text, n=10):\n",
        "    words = word_tokenize(text.lower())\n",
        "    filtered_words = [word for word in words if word.isalnum() and word not in stop_words]\n",
        "    word_counts = Counter(filtered_words)\n",
        "    top_words = word_counts.most_common(n)\n",
        "    return top_words\n",
        "\n",
        "top_words_per_target = df.groupby('Language')['sentence'].apply(lambda x: extract_top_words(' '.join(x), n=10))\n",
        "top_words_per_target"
      ],
      "metadata": {
        "id": "TnjgbucUSZdJ"
      },
      "execution_count": null,
      "outputs": []
    },
    {
      "cell_type": "markdown",
      "source": [
        "## Analyse des word-Ngram"
      ],
      "metadata": {
        "id": "2TCgos7cTLCK"
      }
    },
    {
      "cell_type": "code",
      "source": [
        "def get_ngrams(text, ngram_from=2, ngram_to=2, n=None, max_features=10):\n",
        "\n",
        "    vec = CountVectorizer(ngram_range = (ngram_from, ngram_to),\n",
        "                          max_features = max_features,\n",
        "                          stop_words='english').fit(text)\n",
        "    bag_of_words = vec.transform(text)\n",
        "    sum_words = bag_of_words.sum(axis = 0)\n",
        "    words_freq = [(word, sum_words[0, i]) for word, i in vec.vocabulary_.items()]\n",
        "    words_freq = sorted(words_freq, key = lambda x: x[1], reverse = True)\n",
        "\n",
        "    return words_freq[:n]"
      ],
      "metadata": {
        "id": "odtgO9mNSZaE"
      },
      "execution_count": null,
      "outputs": []
    },
    {
      "cell_type": "markdown",
      "source": [
        "### Word Bigrams"
      ],
      "metadata": {
        "id": "QtGAPSKPTjpn"
      }
    },
    {
      "cell_type": "code",
      "source": [
        "list = []\n",
        "langs = df['Language'].unique().tolist()\n",
        "for i in langs :\n",
        "  # Bigrams\n",
        "  bigrams = get_ngrams(df[df['Language'] == i]['sentence'], ngram_from=2, ngram_to=2, n=150)\n",
        "  bigrams_df = pd.DataFrame(bigrams)\n",
        "  bigrams_df.columns=[\"Bigram\", \"Frequency\"]\n",
        "  list.append(bigrams_df)\n",
        "  fig = px.bar(list[langs.index(i)], x = 'Bigram', y = 'Frequency' , title=i)\n",
        "  fig.show()"
      ],
      "metadata": {
        "id": "SppQlYHiTjL_"
      },
      "execution_count": null,
      "outputs": []
    },
    {
      "cell_type": "markdown",
      "source": [
        "### Word Trigrams"
      ],
      "metadata": {
        "id": "CC6rqbgxTnc0"
      }
    },
    {
      "cell_type": "code",
      "source": [
        "list = []\n",
        "langs = df['Language'].unique().tolist()\n",
        "for i in langs :\n",
        "  # Bigrams\n",
        "  bigrams = get_ngrams(df[df['Language'] == i]['sentence'], ngram_from=3, ngram_to=3, n=150)\n",
        "  bigrams_df = pd.DataFrame(bigrams)\n",
        "  bigrams_df.columns=[\"Bigram\", \"Frequency\"]\n",
        "  list.append(bigrams_df)\n",
        "  fig = px.bar(list[langs.index(i)], x = 'Bigram', y = 'Frequency' , title=i)\n",
        "  fig.show()\n"
      ],
      "metadata": {
        "id": "mMOZnyppTsdL"
      },
      "execution_count": null,
      "outputs": []
    },
    {
      "cell_type": "markdown",
      "source": [
        "## Analyse des caracter Ngram"
      ],
      "metadata": {
        "id": "8Ij2nTi9Vg6m"
      }
    },
    {
      "cell_type": "code",
      "source": [
        "def get_ngrams(text, ngram_from=2, ngram_to=2, n=None, max_features=10):\n",
        "\n",
        "    vec = CountVectorizer(ngram_range = (ngram_from, ngram_to),\n",
        "                          max_features = max_features,analyzer='char',\n",
        "                          stop_words='english').fit(text)\n",
        "    bag_of_words = vec.transform(text)\n",
        "    sum_words = bag_of_words.sum(axis = 0)\n",
        "    words_freq = [(word, sum_words[0, i]) for word, i in vec.vocabulary_.items()]\n",
        "    words_freq = sorted(words_freq, key = lambda x: x[1], reverse = True)\n",
        "\n",
        "    return words_freq[:n]"
      ],
      "metadata": {
        "id": "hZDyUXJ_VmiG"
      },
      "execution_count": null,
      "outputs": []
    },
    {
      "cell_type": "code",
      "source": [
        "list = []\n",
        "langs = df['Language'].unique().tolist()\n",
        "\n",
        "# On varie ce parametres selon le besoin il represente lke nb de caracter a ^prendre en compte\n",
        "nb_char = 15\n",
        "\n",
        "for i in langs :\n",
        "  # Bigrams\n",
        "  bigrams = get_ngrams(df[df['Language'] == i]['sentence'], ngram_from=nb_char, ngram_to=nb_char, n=150)\n",
        "  bigrams_df = pd.DataFrame(bigrams)\n",
        "  bigrams_df.columns=[\"Bigram\", \"Frequency\"]\n",
        "  list.append(bigrams_df)\n",
        "  fig = px.bar(list[langs.index(i)], x = 'Bigram', y = 'Frequency' , title=i)\n",
        "  fig.show()\n"
      ],
      "metadata": {
        "id": "Q8Aj4MYkVsE9"
      },
      "execution_count": null,
      "outputs": []
    },
    {
      "cell_type": "markdown",
      "source": [
        "## Longeurs des phrases par langue"
      ],
      "metadata": {
        "id": "00bXHkFqZDB5"
      }
    },
    {
      "cell_type": "code",
      "source": [
        "# Calculer le word count moyen par langue\n",
        "avg_word_count_by_language = df.groupby('Language')['word_count'].mean()\n",
        "\n",
        "# Affichage du diagramme à barres\n",
        "plt.figure(figsize=(10, 6))\n",
        "avg_word_count_by_language.plot(kind='bar', color='skyblue')\n",
        "plt.title('Nb de mots moyen de mots par langue')\n",
        "plt.xlabel('Langue')\n",
        "plt.ylabel('Nb de mots moyen')\n",
        "plt.xticks(rotation=45)\n",
        "plt.grid(axis='y', linestyle='--', alpha=0.7)\n",
        "plt.tight_layout()\n",
        "plt.show()\n"
      ],
      "metadata": {
        "id": "k5H9GXMRZHRY"
      },
      "execution_count": null,
      "outputs": []
    },
    {
      "cell_type": "markdown",
      "source": [
        "## Longeur de phrase moyenne par langue"
      ],
      "metadata": {
        "id": "Tau9zF9gZJpc"
      }
    },
    {
      "cell_type": "code",
      "source": [
        "# Calculer le word count moyen par langue\n",
        "avg_word_count_by_language = df.groupby('Language')['avg_sentence_length'].mean()\n",
        "\n",
        "# Affichage du diagramme à barres\n",
        "plt.figure(figsize=(10, 6))\n",
        "avg_word_count_by_language.plot(kind='bar', color='skyblue')\n",
        "plt.title('longueur de phrase moyenne par langue')\n",
        "plt.xlabel('Langue')\n",
        "plt.ylabel('longeur de phrase moyenne')\n",
        "plt.xticks(rotation=45)\n",
        "plt.grid(axis='y', linestyle='--', alpha=0.7)\n",
        "plt.tight_layout()\n",
        "plt.show()\n"
      ],
      "metadata": {
        "id": "sU7iPDCrZJ8i"
      },
      "execution_count": null,
      "outputs": []
    },
    {
      "cell_type": "markdown",
      "source": [
        "## Erreur communes a chaque langue"
      ],
      "metadata": {
        "id": "nDxlRp2wc-z6"
      }
    },
    {
      "cell_type": "code",
      "source": [
        "from languagetool import LanguageTool\n",
        "\n",
        "def get_common_errors_with_context(text, language_tool):\n",
        "    # check le text\n",
        "    matches = language_tool.check(text)\n",
        "    errors = [(match.message, text[max(0, match.offset - 10):match.offset + match.errorLength + 10]) for match in matches]\n",
        "    errors = [(error, context.strip()) for error, context in errors if context.strip() and any(char.isalpha() for char in context)]\n",
        "\n",
        "    return errors\n",
        "\n",
        "language_tool = LanguageTool(\"en-US\")\n",
        "\n",
        "common_errors_dict = {}\n",
        "\n",
        "for lang in df['language'].unique():\n",
        "    lang_df = df[df['language'] == lang]\n",
        "    common_errors = Counter()\n",
        "    # on boucle sur les ^phrase de chaque langue\n",
        "    for sentence in lang_df['sentence']:\n",
        "        errors = get_common_errors_with_context(sentence, language_tool)\n",
        "        common_errors.update(errors)\n",
        "    # on garde les 10 plus frequente\n",
        "    common_errors_dict[lang] = common_errors.most_common(10)\n",
        "\n",
        "for lang, errors in common_errors_dict.items():\n",
        "    print(f\"10 Most Common Errors in {lang}:\")\n",
        "    for (error, context), count in errors:\n",
        "        print(f\"- '{context}' - Error: {error} (Count: {count})\")\n",
        "    print()\n"
      ],
      "metadata": {
        "id": "dKelh85NdDtH"
      },
      "execution_count": null,
      "outputs": []
    },
    {
      "cell_type": "markdown",
      "source": [
        "# Test des approches de preprocessing"
      ],
      "metadata": {
        "id": "lxGsC3jiQ84A"
      }
    },
    {
      "cell_type": "markdown",
      "source": [
        "## Bag Of Words"
      ],
      "metadata": {
        "id": "GcK3WxXAVHAH"
      }
    },
    {
      "cell_type": "code",
      "source": [
        "text = df['sentence_lowercase']\n",
        "model = CountVectorizer(ngram_range = (1, 1), stop_words='english')\n",
        "matrix = model.fit_transform(text).toarray()\n",
        "\n",
        "df_countVec = pd.DataFrame(data = matrix, columns = model.get_feature_names_out())\n",
        "\n",
        "# vectorisation + data split\n",
        "vectorizer = CountVectorizer(max_features = 1000, min_df = 0.1, stop_words='english')\n",
        "X = df['sentence_lowercase'].values\n",
        "X = vectorizer.fit_transform(X)\n",
        "print(type(X))\n",
        "y = df['Language'].values"
      ],
      "metadata": {
        "id": "kSiqVdn0Q8sU"
      },
      "execution_count": 8,
      "outputs": []
    },
    {
      "cell_type": "code",
      "source": [
        "models = [SVC(), LogisticRegression(), RandomForestClassifier()]\n",
        "models_names = [\"SVC\", \"Logistic Regression\", \"Random Forest\" ]\n",
        "bow_mean_scores = []\n",
        "cv = StratifiedKFold(n_splits=5, shuffle=True, random_state=42)\n",
        "for clf in models :\n",
        "  scores = cross_val_score(clf, X, y, cv = cv, scoring='accuracy')\n",
        "  bow_mean_scores.append(scores.mean())\n",
        "  print(\"**\", models_names[models.index(clf)], \"**\")\n",
        "  print(\"Scores: \", scores)\n",
        "  print(\"Average Score: \", scores.mean())\n",
        "  print('************************************')"
      ],
      "metadata": {
        "id": "6cHwbLPbQ8p5"
      },
      "execution_count": null,
      "outputs": []
    },
    {
      "cell_type": "markdown",
      "source": [
        "## TF-IDF"
      ],
      "metadata": {
        "id": "AjX1nmYQVYaD"
      }
    },
    {
      "cell_type": "code",
      "source": [
        "vectorizer = TfidfVectorizer(max_features = 10000, stop_words='english')\n",
        "X = df['sentence_lowercase'].values\n",
        "X = vectorizer.fit_transform(X)\n",
        "y = df['Language'].values\n",
        "\n",
        "# entrainement des modeles sur ces données vectorisées\n",
        "models = [SVC(), LogisticRegression(), RandomForestClassifier()]\n",
        "models_names = [\"SVC\", \"Logistic Regression\", \"Random Forest\" ]\n",
        "tf_mean_scores = []\n",
        "for clf in models :\n",
        "  scores = cross_val_score(clf, X, y, cv = cv, scoring='accuracy')\n",
        "  tf_mean_scores.append(scores.mean())\n",
        "  print(\"**\", models_names[models.index(clf)], \"**\")\n",
        "  print(\"Scores: \", scores)\n",
        "  print(\"Average Score: \", scores.mean())\n",
        "  print('************************************')"
      ],
      "metadata": {
        "id": "lF_zpxc5Q8mk"
      },
      "execution_count": null,
      "outputs": []
    },
    {
      "cell_type": "markdown",
      "source": [
        "# Modeles Simples sur texte brute (avec TF-IDF)"
      ],
      "metadata": {
        "id": "CGlAtKDtDGPD"
      }
    },
    {
      "cell_type": "code",
      "source": [
        "X = df['sentence']\n",
        "y = df['language']\n",
        "\n",
        "# Définir les pipelines pour chaque modèle\n",
        "pipelines = {\n",
        "    'Naive Bayes': Pipeline([\n",
        "        ('tfidf', TfidfVectorizer()),\n",
        "        ('clf', MultinomialNB())\n",
        "    ]),\n",
        "    'SVM': Pipeline([\n",
        "        ('tfidf', TfidfVectorizer()),\n",
        "        ('clf', SVC())\n",
        "    ]),\n",
        "    'Logistic Regression': Pipeline([\n",
        "        ('tfidf', TfidfVectorizer()),\n",
        "        ('clf', LogisticRegression())\n",
        "    ]),\n",
        "    'Random Forest': Pipeline([\n",
        "        ('tfidf', TfidfVectorizer()),\n",
        "        ('clf', RandomForestClassifier())\n",
        "    ])\n",
        "}\n",
        "\n",
        "\n",
        "param_grids = {\n",
        "    'Naive Bayes': {\n",
        "        'tfidf__ngram_range': [(1, 1), (1, 2)],\n",
        "        'clf__alpha': [0.1, 0.5, 1.0]\n",
        "    },\n",
        "    'SVM': {\n",
        "        'tfidf__ngram_range': [(1, 1), (1, 2)],\n",
        "        'clf__C': [1, 10, 100],\n",
        "        'clf__kernel': ['linear', 'rbf']\n",
        "    },\n",
        "    'Logistic Regression': {\n",
        "        'tfidf__ngram_range': [(1, 1), (1, 2)],\n",
        "        'clf__C': [0.1, 1, 10]\n",
        "    },\n",
        "    'Random Forest': {\n",
        "        'tfidf__ngram_range': [(1, 1), (1, 2)],\n",
        "        'clf__n_estimators': [100, 200, 300],\n",
        "        'clf__max_depth': [None, 10, 20]\n",
        "    }\n",
        "}\n",
        "\n",
        "\n",
        "X_train, X_test, y_train, y_test = train_test_split(df['sentence'], df['language'], test_size=0.2, stratify=y )\n",
        "\n",
        "# gridSearch with cross validation and testing on y_test\n",
        "for model_name, pipeline in pipelines.items():\n",
        "    print(f\"Training {model_name}...\")\n",
        "    grid_search = GridSearchCV(pipeline, param_grids[model_name], cv=5, n_jobs=-1)\n",
        "    grid_search.fit(X_train, y_train)\n",
        "    print(\"Best parameters found:\")\n",
        "    print(grid_search.best_params_)\n",
        "    print(\"Best cross-validation score:\")\n",
        "    print(grid_search.best_score_)\n",
        "    print(\"Classification report on test set:\")\n",
        "    y_pred = grid_search.predict(X_test)\n",
        "    print(classification_report(y_test, y_pred))\n",
        "    print(\"=\"*50)\n"
      ],
      "metadata": {
        "id": "bxJHB3ggDQM2"
      },
      "execution_count": null,
      "outputs": []
    },
    {
      "cell_type": "markdown",
      "source": [
        "# Ensemble classifier"
      ],
      "metadata": {
        "id": "sJmsEYOFAm07"
      }
    },
    {
      "cell_type": "markdown",
      "source": [
        "## SVC linear + SVC rbf + Logistic Regression"
      ],
      "metadata": {
        "id": "ZPA3LdU_HQut"
      }
    },
    {
      "cell_type": "code",
      "execution_count": 16,
      "metadata": {
        "colab": {
          "base_uri": "https://localhost:8080/",
          "height": 772
        },
        "id": "x5Aq-B95USK9",
        "outputId": "7140e1db-52a8-4147-e515-48a83d78b2a8"
      },
      "outputs": [
        {
          "output_type": "stream",
          "name": "stdout",
          "text": [
            "Ensemble Accuracy: 0.6843434343434344\n",
            "[[106   5   5   6  14   3   7   4   4   5  11]\n",
            " [  5 119   5   3   4   1  11  13   7   1   6]\n",
            " [  6   4 135   5   6  13   4   4   8   1   7]\n",
            " [  1   0   7 139   2  10   0   2   6   1   4]\n",
            " [  3   4   1   3 131   0   2   1   2  25   4]\n",
            " [  5   5  16   3   2 117   2   1  10   3   0]\n",
            " [  6  14   1   2   0   1 123  29   6   0   4]\n",
            " [  4  19   2   4   5   1  28 121   5   3   9]\n",
            " [ 11   3  10   6   9  18   2   3 124   1   9]\n",
            " [  1   1   0   1  39   0   2   0   2 131   2]\n",
            " [ 13   7   4   4   7   6   5   8   4   1 109]]\n"
          ]
        },
        {
          "output_type": "display_data",
          "data": {
            "text/plain": [
              "<Figure size 800x600 with 2 Axes>"
            ],
            "image/png": "[encoded data removed]"
          },
          "metadata": {}
        }
      ],
      "source": [
        "X = df['sentence']\n",
        "y = df['language']\n",
        "\n",
        "# vectorisation et split\n",
        "vectorizer = TfidfVectorizer()\n",
        "X_vectorized = vectorizer.fit_transform(X)\n",
        "X_train, X_test, y_train, y_test = train_test_split(X_vectorized, y, test_size=0.2, random_state=42)\n",
        "\n",
        "# definition de 03 classfieurs simples\n",
        "svm_clf = SVC(kernel='linear', probability=True)\n",
        "svm_rbf_clf = SVC(kernel='rbf')\n",
        "lr_clf = LogisticRegression(max_iter=1000)\n",
        "\n",
        "# creation de l'ensemble avec une politique de vote\n",
        "ensemble_clf = VotingClassifier(estimators=[('svm', svm_clf), ('svm-rbf', svm_rbf_clf), ('lr', lr_clf)], voting='hard')\n",
        "ensemble_clf.fit(X_train, y_train)\n",
        "y_pred = ensemble_clf.predict(X_test)\n",
        "\n",
        "accuracy = accuracy_score(y_test, y_pred)\n",
        "print(\"Ensemble Accuracy:\", accuracy)\n",
        "\n",
        "cm = confusion_matrix(y_test, y_pred)\n",
        "print (cm)\n",
        "plt.figure(figsize=(8, 6))\n",
        "sns.heatmap(cm, annot=True, fmt=\"d\", cmap=\"Blues\", xticklabels=ensemble_clf.classes_, yticklabels=ensemble_clf.classes_)\n",
        "plt.xlabel('Predicted')\n",
        "plt.ylabel('Actual')\n",
        "plt.title('Confusion Matrix')\n",
        "plt.show()"
      ]
    },
    {
      "cell_type": "code",
      "source": [
        "print(classification_report(y_test, y_pred))"
      ],
      "metadata": {
        "colab": {
          "base_uri": "https://localhost:8080/"
        },
        "id": "lTC2HIdGnX3o",
        "outputId": "53b47ad2-69ce-47b9-db63-a970de6263b6"
      },
      "execution_count": 18,
      "outputs": [
        {
          "output_type": "stream",
          "name": "stdout",
          "text": [
            "              precision    recall  f1-score   support\n",
            "\n",
            "         ARA       0.66      0.62      0.64       170\n",
            "         CHI       0.66      0.68      0.67       175\n",
            "         FRE       0.73      0.70      0.71       193\n",
            "         GER       0.79      0.81      0.80       172\n",
            "         HIN       0.60      0.74      0.66       176\n",
            "         ITA       0.69      0.71      0.70       164\n",
            "         JPN       0.66      0.66      0.66       186\n",
            "         KOR       0.65      0.60      0.63       201\n",
            "         SPA       0.70      0.63      0.66       196\n",
            "         TEL       0.76      0.73      0.75       179\n",
            "         TUR       0.66      0.65      0.65       168\n",
            "\n",
            "    accuracy                           0.68      1980\n",
            "   macro avg       0.69      0.69      0.68      1980\n",
            "weighted avg       0.69      0.68      0.68      1980\n",
            "\n"
          ]
        }
      ]
    },
    {
      "cell_type": "markdown",
      "source": [
        "## Bagging classifier (avec des instances du meme model)"
      ],
      "metadata": {
        "id": "lOG_sjdNUHfe"
      }
    },
    {
      "cell_type": "code",
      "execution_count": null,
      "metadata": {
        "colab": {
          "base_uri": "https://localhost:8080/"
        },
        "id": "NhNSGGRxVqw9",
        "outputId": "919c2366-ea75-4bd0-a239-0095e485ebdd"
      },
      "outputs": [
        {
          "name": "stderr",
          "output_type": "stream",
          "text": [
            "/usr/local/lib/python3.10/dist-packages/sklearn/ensemble/_base.py:166: FutureWarning: `base_estimator` was renamed to `estimator` in version 1.2 and will be removed in 1.4.\n",
            "  warnings.warn(\n"
          ]
        },
        {
          "name": "stdout",
          "output_type": "stream",
          "text": [
            "Accuracy: 0.6863636363636364\n"
          ]
        }
      ],
      "source": [
        "X = df['sentence']\n",
        "y = df['language']\n",
        "X_train, X_test, y_train, y_test = train_test_split(X, y, test_size=0.2, random_state=42)\n",
        "\n",
        "# TF-IDF Vectorization\n",
        "vectorizer = TfidfVectorizer()\n",
        "X_train_vectorized = vectorizer.fit_transform(X_train)\n",
        "X_test_vectorized = vectorizer.transform(X_test)\n",
        "\n",
        "svm_classifier = SVC(kernel='linear')\n",
        "\n",
        "ensemble_classifier = BaggingClassifier(base_estimator=svm_classifier, n_estimators=10, random_state=42)\n",
        "ensemble_classifier.fit(X_train_vectorized, y_train)\n",
        "\n",
        "predictions = ensemble_classifier.predict(X_test_vectorized)\n",
        "\n",
        "accuracy = accuracy_score(y_test, predictions)\n",
        "print(\"Accuracy:\", accuracy)"
      ]
    },
    {
      "cell_type": "code",
      "execution_count": null,
      "metadata": {
        "colab": {
          "base_uri": "https://localhost:8080/",
          "height": 934
        },
        "id": "m2mvXu44viOh",
        "outputId": "685cebb6-1d46-4f6f-ea10-fa99a0a04998"
      },
      "outputs": [
        {
          "name": "stdout",
          "output_type": "stream",
          "text": [
            "Confusion Matrix:\n",
            "[[112   5   6   6  14   2   6   3   4   6   6]\n",
            " [  5 126   5   4   5   0   8  11   6   1   4]\n",
            " [  7   5 151   2   3   7   3   3   6   0   6]\n",
            " [  0   1   8 142   2   7   0   2   5   2   3]\n",
            " [  4   4   1   5 133   0   1   0   2  22   4]\n",
            " [  4   4  18   5   3 117   2   1   8   2   0]\n",
            " [  8  16   3   2   0   3 120  28   3   0   3]\n",
            " [  7  21   3   5   3   3  28 117   5   3   6]\n",
            " [ 14   2  13  12   8  20   0   3 117   0   7]\n",
            " [  2   2   0   2  42   0   2   0   1 126   2]\n",
            " [ 13   8   4   5   6   8   4   8   6   3 103]]\n"
          ]
        },
        {
          "data": {
            "image/png": "[encoded data removed]",
            "text/plain": [
              "<Figure size 1000x800 with 2 Axes>"
            ]
          },
          "metadata": {},
          "output_type": "display_data"
        }
      ],
      "source": [
        "cm = confusion_matrix(y_test, y_pred)\n",
        "\n",
        "# Plot confusion matrix\n",
        "plt.figure(figsize=(10, 8))\n",
        "sns.heatmap(cm, annot=True, fmt='d', cmap='Blues', xticklabels=ensemble_classifier.classes_, yticklabels=ensemble_classifier.classes_)\n",
        "plt.xlabel('Predicted')\n",
        "plt.ylabel('True')\n",
        "plt.title('Confusion Matrix')\n",
        "plt.show()"
      ]
    },
    {
      "cell_type": "markdown",
      "source": [
        "## Ensemble de svm (chaque instance avec des features differrentes)"
      ],
      "metadata": {
        "id": "ZgbtTGLkUfl0"
      }
    },
    {
      "cell_type": "code",
      "execution_count": null,
      "metadata": {
        "id": "HcPMrGE_GTVI"
      },
      "outputs": [],
      "source": [
        "\n",
        "# Split the data into features (X) and target label (y)\n",
        "X = df['sentence']\n",
        "y = df['language']\n",
        "\n",
        "X_train, X_test, y_train, y_test = train_test_split(X, y, test_size=0.2, random_state=42)\n",
        "\n",
        "# Feature extraction for Word/Lemma 1to2-grams\n",
        "word_lemma_vectorizer = TfidfVectorizer(ngram_range=(1, 2), analyzer='word')\n",
        "X_train_word_lemma = word_lemma_vectorizer.fit_transform(X_train)\n",
        "X_test_word_lemma = word_lemma_vectorizer.transform(X_test)\n",
        "\n",
        "# Feature extraction for Character 1to3-grams\n",
        "char_vectorizer = TfidfVectorizer(ngram_range=(1, 3), analyzer='char')\n",
        "X_train_char = char_vectorizer.fit_transform(X_train)\n",
        "X_test_char = char_vectorizer.transform(X_test)\n",
        "\n",
        "# Feature extraction for Function word unigrams\n",
        "function_word_vectorizer = TfidfVectorizer(ngram_range=(1, 1), analyzer='word', stop_words='english')\n",
        "X_train_func_word = function_word_vectorizer.fit_transform(X_train)\n",
        "X_test_func_word = function_word_vectorizer.transform(X_test)\n",
        "\n",
        "# Feature extraction for Function word bigrams\n",
        "function_word_bigram_vectorizer = TfidfVectorizer(ngram_range=(2, 2), analyzer='word', stop_words='english')\n",
        "X_train_func_word_bigram = function_word_bigram_vectorizer.fit_transform(X_train)\n",
        "X_test_func_word_bigram = function_word_bigram_vectorizer.transform(X_test)\n",
        "\n",
        "\n",
        "# Initialize SVM classifiers with different feature sets\n",
        "svm_word_lemma = SVC(kernel='linear')\n",
        "svm_char = SVC(kernel='linear')\n",
        "svm_func_word = SVC(kernel='linear')\n",
        "svm_func_word_bigram = SVC(kernel='linear')\n",
        "svm_pos = SVC(kernel='linear')\n",
        "\n",
        "# Train the SVM classifiers\n",
        "svm_word_lemma.fit(X_train_word_lemma, y_train)\n",
        "svm_char.fit(X_train_char, y_train)\n",
        "svm_func_word.fit(X_train_func_word, y_train)\n",
        "svm_func_word_bigram.fit(X_train_func_word_bigram, y_train)\n",
        "\n",
        "# Make predictions on the test data\n",
        "pred_word_lemma = svm_word_lemma.predict(X_test_word_lemma)\n",
        "pred_char = svm_char.predict(X_test_char)\n",
        "pred_func_word = svm_func_word.predict(X_test_func_word)\n",
        "pred_func_word_bigram = svm_func_word_bigram.predict(X_test_func_word_bigram)\n",
        "\n",
        "ensemble_pred = pd.DataFrame({'word_lemma': pred_word_lemma, 'char': pred_char,\n",
        "                              'func_word': pred_func_word, 'func_word_bigram': pred_func_word_bigram})\n",
        "\n",
        "ensemble_pred['voted'] = ensemble_pred.mode(axis=1)[0]\n",
        "\n",
        "accuracy = accuracy_score(y_test, ensemble_pred['voted'])\n",
        "print(\"Ensemble Accuracy:\", accuracy)\n"
      ]
    },
    {
      "cell_type": "markdown",
      "metadata": {
        "id": "3r-t5-PDon04"
      },
      "source": [
        "# ** Modele Hierachique - utilisé lors de l'examen**"
      ]
    },
    {
      "cell_type": "markdown",
      "metadata": {
        "id": "Z_jEqlwcoqTU"
      },
      "source": [
        "## Predire groupe de langue"
      ]
    },
    {
      "cell_type": "markdown",
      "source": [
        "### Recherche des meilleurs parametres"
      ],
      "metadata": {
        "id": "E1VKMRSea-FU"
      }
    },
    {
      "cell_type": "code",
      "source": [
        "# Définir les groupes de langues\n",
        "language_groups = {\n",
        "    'Romance': ['ITA', 'FRE', 'SPA'],\n",
        "    'Indian': ['HIN', 'TEL'],\n",
        "    'Arabic': ['ARA'],\n",
        "    'Turkish': ['TUR'],\n",
        "    'Asian': ['CHI', 'JPN', 'KOR'],\n",
        "    'German': ['GER']\n",
        "}\n",
        "\n",
        "# Étape 1: Classification des groupes de langues\n",
        "def classify_language_group(lang):\n",
        "    for group, languages in language_groups.items():\n",
        "        if lang in languages:\n",
        "            return group\n",
        "\n",
        "df['language_group'] = df['language'].apply(classify_language_group)\n",
        "\n",
        "# Division des données en ensembles de formation et de test\n",
        "X_train, X_test, y_train, y_test = train_test_split(df['sentence'], df['language_group'], test_size=0.2, random_state=42)\n",
        "\n",
        "# Vectorisation des données textuelles\n",
        "vectorizer = TfidfVectorizer(ngram_range=(1, 2))\n",
        "X_train_vec = vectorizer.fit_transform(X_train)\n",
        "X_test_vec = vectorizer.transform(X_test)\n",
        "\n",
        "# Définition des paramètres à rechercher\n",
        "param_grid = {\n",
        "    'C': [0.1, 1, 10],\n",
        "    'gamma': ['scale', 'auto'],\n",
        "    'kernel': ['linear']\n",
        "}\n",
        "\n",
        "# Initialisation de GridSearchCV\n",
        "svm_grid_search = GridSearchCV(SVC(), param_grid, cv=5)\n",
        "\n",
        "# Recherche des meilleurs paramètres\n",
        "svm_grid_search.fit(X_train_vec, y_train)\n",
        "\n",
        "# Meilleurs paramètres trouvés\n",
        "best_params = svm_grid_search.best_params_\n",
        "print(\"Meilleurs paramètres trouvés:\", best_params)\n",
        "\n",
        "# Évaluation du modèle avec les meilleurs paramètres\n",
        "y_pred = svm_grid_search.predict(X_test_vec)\n",
        "print(classification_report(y_test, y_pred))\n"
      ],
      "metadata": {
        "id": "ylTzevh0a8eY"
      },
      "execution_count": null,
      "outputs": []
    },
    {
      "cell_type": "markdown",
      "source": [
        "### Entrainement du bon modele"
      ],
      "metadata": {
        "id": "pOiaItwebB87"
      }
    },
    {
      "cell_type": "code",
      "execution_count": null,
      "metadata": {
        "colab": {
          "base_uri": "https://localhost:8080/"
        },
        "id": "OJQPSY2QmhWy",
        "outputId": "0fec5c0c-810f-4742-a7e5-c95ce27d965c"
      },
      "outputs": [
        {
          "name": "stdout",
          "output_type": "stream",
          "text": [
            "              precision    recall  f1-score   support\n",
            "\n",
            "      Arabic       0.90      0.50      0.64       170\n",
            "       Asian       0.87      0.93      0.90       562\n",
            "      German       0.89      0.79      0.84       172\n",
            "      Indian       0.90      0.97      0.93       355\n",
            "     Romance       0.81      0.93      0.87       553\n",
            "     Turkish       0.92      0.65      0.76       168\n",
            "\n",
            "    accuracy                           0.86      1980\n",
            "   macro avg       0.88      0.80      0.82      1980\n",
            "weighted avg       0.87      0.86      0.86      1980\n",
            "\n"
          ]
        }
      ],
      "source": [
        "# Définir les groupes de langues\n",
        "language_groups = {\n",
        "    'Romance': ['ITA', 'FRE', 'SPA'],\n",
        "    'Indian': ['HIN', 'TEL'],\n",
        "    'Arabic': ['ARA'],\n",
        "    'Turkish': ['TUR'],\n",
        "    'Asian': ['CHI', 'JPN', 'KOR'],\n",
        "    'German': ['GER']\n",
        "}\n",
        "\n",
        "# Étape 1: Classification des groupes de langues\n",
        "def classify_language_group(lang):\n",
        "    for group, languages in language_groups.items():\n",
        "        if lang in languages:\n",
        "            return group\n",
        "\n",
        "df['language_group'] = df['language'].apply(classify_language_group)\n",
        "\n",
        "# Division des données en ensembles de formation et de test\n",
        "X_train, X_test, y_train, y_test = train_test_split(df['sentence'], df['language_group'], test_size=0.2, random_state=42)\n",
        "# X_train, X_test, y_train, y_test = train_test_split(df['sentence'], df['language_group'], test_size=0.2, random_state=42, stratify=df['language_group'])\n",
        "\n",
        "# Vectorisation des données textuelles\n",
        "vectorizer = TfidfVectorizer(ngram_range=(1, 2))\n",
        "X_train_vec = vectorizer.fit_transform(X_train)\n",
        "X_test_vec = vectorizer.transform(X_test)\n",
        "\n",
        "# Entrainement du modèle SVM\n",
        "svm_model = SVC(kernel='linear', c=0.1)\n",
        "svm_model.fit(X_train_vec, y_train)\n",
        "\n",
        "# Évaluation du modèle\n",
        "y_pred = svm_model.predict(X_test_vec)\n",
        "print(classification_report(y_test, y_pred))\n"
      ]
    },
    {
      "cell_type": "code",
      "source": [
        "file_path = '/content/drive/MyDrive/Colab Notebooks/ExtractionProject/svm_predict_group_final.pkl'\n",
        "\n",
        "# Save the model to file\n",
        "with open(file_path, 'wb') as file:\n",
        "    pickle.dump(svm_model, file)"
      ],
      "metadata": {
        "id": "d-mbmAFCYoU4"
      },
      "execution_count": null,
      "outputs": []
    },
    {
      "cell_type": "markdown",
      "metadata": {
        "id": "2m28VOMAqfzg"
      },
      "source": [
        "## Prediction langue dans groupe"
      ]
    },
    {
      "cell_type": "code",
      "execution_count": null,
      "metadata": {
        "id": "IVmlXs-pFA1x"
      },
      "outputs": [],
      "source": [
        "# Création d'un dictionnaire pour stocker les modèles par groupe de langue\n",
        "models = {}\n",
        "filtered_language_groups = {\n",
        "    'Romance': ['ITA', 'FRE', 'SPA'],\n",
        "    'Indian': ['HIN', 'TEL'],\n",
        "    'Asian': ['CHI', 'JPN', 'KOR'],\n",
        "}\n",
        "\n",
        "# Entraîner un modèle pour chaque groupe de langue\n",
        "for group, languages in filtered_language_groups.items():\n",
        "    # Filtrer les données pour le groupe de langue\n",
        "    group_data = df[df['language_group'] == group]\n",
        "\n",
        "\n",
        "    # Vectoriser les données textuelles\n",
        "    vectorizer = TfidfVectorizer(ngram_range=(1, 2))\n",
        "    X_train_group_vec = vectorizer.fit_transform(group_data['sentence'])\n",
        "\n",
        "    # Entraîner le modèle SVM\n",
        "    svm_model = SVC(kernel='linear')\n",
        "    svm_model.fit(X_train_group_vec, group_data['language'])\n",
        "\n",
        "    # Stocker le modèle et le vectorizer dans le dictionnaire\n",
        "    models[group] = {'model': svm_model, 'vectorizer': vectorizer}\n",
        "\n",
        "# Fonction pour prédire la langue du texte\n",
        "def predict_language(sentence):\n",
        "    # Prédire le groupe de langue du texte\n",
        "    group = classify_language_group(svm_model.predict(vectorizer.transform([sentence]))[0])\n",
        "    if group == 'Arabic' :\n",
        "      language == 'ARA'\n",
        "    elif group == 'Turkish' :\n",
        "      language == 'TUR'\n",
        "    elif group == 'German' :\n",
        "      language == 'GER'\n",
        "    # Utiliser le modèle correspondant pour prédire la langue réelle du texte\n",
        "    language = models[group]['model'].predict(models[group]['vectorizer'].transform([sentence]))[0]\n",
        "\n",
        "    return language\n",
        "\n"
      ]
    },
    {
      "cell_type": "markdown",
      "source": [
        "## NB : Utilisation du modele"
      ],
      "metadata": {
        "id": "dlRlMcy7XIOn"
      }
    },
    {
      "cell_type": "markdown",
      "metadata": {
        "id": "yv78Vh8SGSrB"
      },
      "source": [
        "### lecture du fichier examen"
      ]
    },
    {
      "cell_type": "code",
      "source": [
        "exam = pd.read_csv('/content/drive/MyDrive/Colab Notebooks/ExtractionProject/test.txt',delimiter='\\t',header=None)\n",
        "exam = exam.rename( columns={0:'sentence'})\n",
        "exam"
      ],
      "metadata": {
        "id": "yvMRG_Xj2Xba"
      },
      "execution_count": null,
      "outputs": []
    },
    {
      "cell_type": "code",
      "execution_count": null,
      "metadata": {
        "id": "1N0g_FLHGRmb"
      },
      "outputs": [],
      "source": [
        "vectorizer = TfidfVectorizer(ngram_range=(1, 2))\n",
        "vectorizer.fit(df['sentence'])\n",
        "exam_vec = vectorizer.transform(exam['sentence'])"
      ]
    },
    {
      "cell_type": "markdown",
      "source": [
        "Pour des soucis de temps d'execution nous avons enregistré le premier modele qui prédis le groupe de langue, et dans la cellule qui suit on le load"
      ],
      "metadata": {
        "id": "ohp9E2h5XrT5"
      }
    },
    {
      "cell_type": "code",
      "execution_count": 11,
      "metadata": {
        "id": "rHHLAd7yGRaQ"
      },
      "outputs": [],
      "source": [
        "\n",
        "# Define the file path where your model is saved\n",
        "file_path = '/content/drive/MyDrive/Colab Notebooks/ExtractionProject/svm_predict_group_final.pkl'\n",
        "\n",
        "# Load the model from file\n",
        "with open(file_path, 'rb') as file:\n",
        "    loaded_model = pickle.load(file)"
      ]
    },
    {
      "cell_type": "markdown",
      "source": [
        "\n",
        "* La on prédis le groupe de langue de chaque essay"
      ],
      "metadata": {
        "id": "4Qt2nEUcYGYw"
      }
    },
    {
      "cell_type": "code",
      "execution_count": null,
      "metadata": {
        "id": "6fvl22QVHGH2"
      },
      "outputs": [],
      "source": [
        "exam['group'] = loaded_model.predict(exam_vec)\n",
        "exam['group']"
      ]
    },
    {
      "cell_type": "markdown",
      "source": [
        "* La on predis dans chaque groupe la langue de chaque essay avec les modeles spécifiques preentrainés précedemment"
      ],
      "metadata": {
        "id": "sz_3oerkYUkF"
      }
    },
    {
      "cell_type": "code",
      "execution_count": null,
      "metadata": {
        "id": "GIF_gxslHGFX"
      },
      "outputs": [],
      "source": [
        "exam['langage_predicted'] = exam['sentence'].apply(predict_language)\n",
        "exam['langage_predicted']"
      ]
    },
    {
      "cell_type": "markdown",
      "metadata": {
        "id": "NRhdyYVHvaFZ"
      },
      "source": [
        "# LLM"
      ]
    },
    {
      "cell_type": "markdown",
      "source": [
        "## BERT"
      ],
      "metadata": {
        "id": "LtQnfyQvZZKj"
      }
    },
    {
      "cell_type": "code",
      "execution_count": null,
      "metadata": {
        "id": "Jcs-Ve6Qu-DV"
      },
      "outputs": [],
      "source": [
        "# Chargement du BERT tokenizer et du model pre-entrainé\n",
        "tokenizer = BertTokenizer.from_pretrained('bert-base-multilingual-cased')\n",
        "model = BertModel.from_pretrained('bert-base-multilingual-cased')\n",
        "\n",
        "input_text = df['sentence'].tolist()\n",
        "input_ids = tokenizer(input_text, return_tensors='pt', padding=True, truncation=True)['input_ids']\n",
        "\n",
        "with torch.no_grad():\n",
        "    outputs = model(input_ids)\n",
        "    embeddings = outputs.last_hidden_state\n",
        "\n",
        "sentence_embeddings = torch.mean(embeddings, dim=1)\n",
        "\n",
        "X = sentence_embeddings.numpy()\n",
        "y = df['Language']\n",
        "\n",
        "X_train, X_test, y_train, y_test = train_test_split(X, y, test_size=0.2, random_state=42)\n",
        "\n",
        "clf = LogisticRegression()\n",
        "clf.fit(X_train, y_train)\n",
        "\n",
        "y_pred = clf.predict(X_test)\n",
        "\n",
        "accuracy = accuracy_score(y_test, y_pred)\n",
        "print(\"Accuracy:\", accuracy)\n"
      ]
    }
  ],
  "metadata": {
    "colab": {
      "collapsed_sections": [
        "pE6wApDoRh4Q",
        "lxGsC3jiQ84A",
        "CGlAtKDtDGPD",
        "sJmsEYOFAm07",
        "ZPA3LdU_HQut",
        "yv78Vh8SGSrB",
        "NRhdyYVHvaFZ",
        "LtQnfyQvZZKj"
      ],
      "provenance": []
    },
    "kernelspec": {
      "display_name": "Python 3",
      "name": "python3"
    }
  },
  "nbformat": 4,
  "nbformat_minor": 0
}